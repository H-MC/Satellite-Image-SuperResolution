{
 "cells": [
  {
   "cell_type": "code",
   "execution_count": 1,
   "metadata": {
    "scrolled": true
   },
   "outputs": [
    {
     "name": "stdout",
     "output_type": "stream",
     "text": [
      "Collecting landsatxplore\n",
      "  Downloading landsatxplore-0.13.0-py3-none-any.whl (14 kB)\n",
      "Collecting shapely<2.0,>=1.7\n",
      "  Downloading Shapely-1.7.1-cp37-cp37m-manylinux1_x86_64.whl (1.0 MB)\n",
      "\u001b[K     |████████████████████████████████| 1.0 MB 8.8 MB/s eta 0:00:01\n",
      "\u001b[?25hRequirement already satisfied: python-dateutil<3.0,>=2.8 in /home/ec2-user/anaconda3/lib/python3.7/site-packages (from landsatxplore) (2.8.1)\n",
      "Collecting tqdm<5.0,>=4.58\n",
      "  Downloading tqdm-4.62.3-py2.py3-none-any.whl (76 kB)\n",
      "\u001b[K     |████████████████████████████████| 76 kB 647 kB/s  eta 0:00:01\n",
      "\u001b[?25hRequirement already satisfied: requests<3.0,>=2.20 in /home/ec2-user/anaconda3/lib/python3.7/site-packages (from landsatxplore) (2.23.0)\n",
      "Requirement already satisfied: click<8.0,>=7.1 in /home/ec2-user/anaconda3/lib/python3.7/site-packages (from landsatxplore) (7.1.1)\n",
      "Requirement already satisfied: six>=1.5 in /home/ec2-user/anaconda3/lib/python3.7/site-packages (from python-dateutil<3.0,>=2.8->landsatxplore) (1.14.0)\n",
      "Requirement already satisfied: certifi>=2017.4.17 in /home/ec2-user/anaconda3/lib/python3.7/site-packages (from requests<3.0,>=2.20->landsatxplore) (2020.4.5.1)\n",
      "Requirement already satisfied: chardet<4,>=3.0.2 in /home/ec2-user/anaconda3/lib/python3.7/site-packages (from requests<3.0,>=2.20->landsatxplore) (3.0.4)\n",
      "Requirement already satisfied: idna<3,>=2.5 in /home/ec2-user/anaconda3/lib/python3.7/site-packages (from requests<3.0,>=2.20->landsatxplore) (2.9)\n",
      "Requirement already satisfied: urllib3!=1.25.0,!=1.25.1,<1.26,>=1.21.1 in /home/ec2-user/anaconda3/lib/python3.7/site-packages (from requests<3.0,>=2.20->landsatxplore) (1.25.8)\n",
      "Installing collected packages: shapely, tqdm, landsatxplore\n",
      "  Attempting uninstall: tqdm\n",
      "    Found existing installation: tqdm 4.44.1\n",
      "    Uninstalling tqdm-4.44.1:\n",
      "      Successfully uninstalled tqdm-4.44.1\n",
      "Successfully installed landsatxplore-0.13.0 shapely-1.7.1 tqdm-4.62.3\n",
      "Note: you may need to restart the kernel to use updated packages.\n"
     ]
    }
   ],
   "source": [
    "pip install landsatxplore"
   ]
  },
  {
   "cell_type": "code",
   "execution_count": 9,
   "metadata": {},
   "outputs": [
    {
     "name": "stdout",
     "output_type": "stream",
     "text": [
      "To download LandSat-8 data from EarthExplorer, it needs your USGS account.\n",
      "Click the link to create a new account: https://earthexplorer.usgs.gov/\n",
      "\n",
      "Username:MCHsieh\n",
      "Password:········\n",
      "Login and start to download LandSat-8 image data...\n"
     ]
    },
    {
     "name": "stderr",
     "output_type": "stream",
     "text": [
      "825MB [01:37, 8.86MB/s]                            \n"
     ]
    }
   ],
   "source": [
    "import os, getpass, tarfile\n",
    "from landsatxplore.earthexplorer import EarthExplorer\n",
    "\n",
    "print('To download LandSat-8 data from EarthExplorer, it needs your USGS account.\\nClick the link to create a new account: https://earthexplorer.usgs.gov/\\n')\n",
    "username = input('Username:')\n",
    "password = getpass.getpass('Password:')\n",
    "print('Login and start to download LandSat-8 image data...')\n",
    "\n",
    "ee = EarthExplorer(username, password)\n",
    "ee.download('LC81170432015320LGN01', output_dir='./data')\n",
    "ee.logout()"
   ]
  },
  {
   "cell_type": "code",
   "execution_count": 10,
   "metadata": {},
   "outputs": [],
   "source": [
    "LS_FileName = 'LC08_L1TP_117043_20151116_20170402_01_T1'\n",
    "gz_FileName = './data/'+LS_FileName+'.tar.gz'\n",
    "\n",
    "cwd = os.getcwd()\n",
    "\n",
    "with tarfile.open(gz_FileName) as tar:\n",
    "    os.chdir('./data')\n",
    "    tar.extractall()\n",
    "    os.chdir(cwd)"
   ]
  }
 ],
 "metadata": {
  "kernelspec": {
   "display_name": "Python 3 (ipykernel)",
   "language": "python",
   "name": "python3"
  },
  "language_info": {
   "codemirror_mode": {
    "name": "ipython",
    "version": 3
   },
   "file_extension": ".py",
   "mimetype": "text/x-python",
   "name": "python",
   "nbconvert_exporter": "python",
   "pygments_lexer": "ipython3",
   "version": "3.7.10"
  }
 },
 "nbformat": 4,
 "nbformat_minor": 4
}
